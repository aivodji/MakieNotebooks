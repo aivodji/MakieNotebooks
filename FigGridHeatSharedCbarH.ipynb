{
 "cells": [
  {
   "cell_type": "markdown",
   "metadata": {},
   "source": [
    "- By [lazarusA](https://lazarusa.github.io/Webpage/index.html)"
   ]
  },
  {
   "cell_type": "code",
   "execution_count": 1,
   "metadata": {},
   "outputs": [
    {
     "data": {
      "image/png": "[encoded data removed]",
      "text/plain": [
       "Figure()"
      ]
     },
     "execution_count": 1,
     "metadata": {},
     "output_type": "execute_result"
    }
   ],
   "source": [
    "using CairoMakie, Random\n",
    "include(\"makieTheme1.jl\") # don't forget to include the theme. \n",
    "\n",
    "Random.seed!(123)\n",
    "n = 15\n",
    "x, y, color = rand(n), rand(n), rand(n)\n",
    "cmaps = [:cool, :viridis, :plasma, :inferno, :thermal,\n",
    "    :leonardo, :winter, :spring, :ice]\n",
    "markers = [:+, :diamond, :star4, :rtriangle, :rect,\n",
    "    :circle, :pentagon, :cross, :star5]\n",
    "\n",
    "function FigGridHeatSharedCbarH()\n",
    "    fig = Figure(resolution = (600, 400))\n",
    "    axes = []\n",
    "    c = 1\n",
    "    for i in 1:1, j in 1:2\n",
    "        ax = fig[i, j] = Axis(fig, xgridvisible = false, ygridvisible = false)\n",
    "        pnts = heatmap!(rand(10,10), colormap= :thermal, colorrange=(0, 1))\n",
    "        ax.xticks = [1,9]\n",
    "        ax.yticks = [1,9]\n",
    "        cbar = Colorbar(fig, pnts, vertical = false, \n",
    "        labelpadding = -10, ticklabelalign = (:center, :center),\n",
    "        ticklabelpad = 7, flipaxisposition=false,  \n",
    "        width = Relative(3/4), height = 15, tickwidth = 2, ticklabelsize = 14)\n",
    "        cbar.ticks = [0,0.5,1]\n",
    "        fig[2, 1:2] = cbar\n",
    "        c+=1\n",
    "        push!(axes, ax)\n",
    "    end\n",
    "    hideydecorations!(axes[2])\n",
    "    fig\n",
    "end\n",
    "fig = FigGridHeatSharedCbarH()\n",
    "#save(\"/results/FigGridHeatSharedCbar.svg\", fig, pt_per_unit = 0.7);\n",
    "save(\"./results/FigGridHeatSharedCbarH.png\", fig, px_per_unit = 2)\n",
    "fig"
   ]
  }
 ],
 "metadata": {
  "kernelspec": {
   "display_name": "Julia 1.5.3",
   "language": "julia",
   "name": "julia-1.5"
  },
  "language_info": {
   "file_extension": ".jl",
   "mimetype": "application/julia",
   "name": "julia",
   "version": "1.5.3"
  }
 },
 "nbformat": 4,
 "nbformat_minor": 2
}
